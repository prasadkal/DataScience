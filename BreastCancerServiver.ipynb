{
  "cells": [
    {
      "metadata": {
        "trusted": true
      },
      "cell_type": "code",
      "source": "!pip install plotly --upgrade\n!pip install chart-studio\nimport numpy as np\nimport pandas as pd\nimport matplotlib.pyplot as plt\nimport seaborn as sns\nimport warnings\nfrom pandas.plotting import parallel_coordinates\n",
      "execution_count": 1,
      "outputs": [
        {
          "output_type": "stream",
          "text": "Requirement already up-to-date: plotly in /home/nbuser/anaconda3_501/lib/python3.6/site-packages (4.1.1)\nRequirement already satisfied, skipping upgrade: retrying>=1.3.3 in /home/nbuser/anaconda3_501/lib/python3.6/site-packages (from plotly) (1.3.3)\nRequirement already satisfied, skipping upgrade: six in /home/nbuser/anaconda3_501/lib/python3.6/site-packages (from plotly) (1.11.0)\n\u001b[33mWARNING: You are using pip version 19.2.2, however version 19.2.3 is available.\nYou should consider upgrading via the 'pip install --upgrade pip' command.\u001b[0m\nRequirement already satisfied: chart-studio in /home/nbuser/anaconda3_501/lib/python3.6/site-packages (1.0.0)\nRequirement already satisfied: retrying>=1.3.3 in /home/nbuser/anaconda3_501/lib/python3.6/site-packages (from chart-studio) (1.3.3)\nRequirement already satisfied: plotly in /home/nbuser/anaconda3_501/lib/python3.6/site-packages (from chart-studio) (4.1.1)\nRequirement already satisfied: requests in /home/nbuser/anaconda3_501/lib/python3.6/site-packages (from chart-studio) (2.22.0)\nRequirement already satisfied: six in /home/nbuser/anaconda3_501/lib/python3.6/site-packages (from chart-studio) (1.11.0)\nRequirement already satisfied: idna<2.9,>=2.5 in /home/nbuser/anaconda3_501/lib/python3.6/site-packages (from requests->chart-studio) (2.7)\nRequirement already satisfied: chardet<3.1.0,>=3.0.2 in /home/nbuser/anaconda3_501/lib/python3.6/site-packages (from requests->chart-studio) (3.0.4)\nRequirement already satisfied: urllib3!=1.25.0,!=1.25.1,<1.26,>=1.21.1 in /home/nbuser/anaconda3_501/lib/python3.6/site-packages (from requests->chart-studio) (1.23)\nRequirement already satisfied: certifi>=2017.4.17 in /home/nbuser/anaconda3_501/lib/python3.6/site-packages (from requests->chart-studio) (2018.10.15)\n\u001b[33mWARNING: You are using pip version 19.2.2, however version 19.2.3 is available.\nYou should consider upgrading via the 'pip install --upgrade pip' command.\u001b[0m\n",
          "name": "stdout"
        }
      ]
    },
    {
      "metadata": {
        "trusted": true
      },
      "cell_type": "code",
      "source": "df_bcs = pd.read_csv('https://raw.githubusercontent.com/insaid2018/Term-1/master/Data/Projects/Breast_cancer_survival.csv')\ndf_bcs.head()",
      "execution_count": 2,
      "outputs": [
        {
          "output_type": "execute_result",
          "execution_count": 2,
          "data": {
            "text/html": "<div>\n<style scoped>\n    .dataframe tbody tr th:only-of-type {\n        vertical-align: middle;\n    }\n\n    .dataframe tbody tr th {\n        vertical-align: top;\n    }\n\n    .dataframe thead th {\n        text-align: right;\n    }\n</style>\n<table border=\"1\" class=\"dataframe\">\n  <thead>\n    <tr style=\"text-align: right;\">\n      <th></th>\n      <th>Age</th>\n      <th>Years_of_operation</th>\n      <th>Pos_axillary_nodes</th>\n      <th>Status</th>\n    </tr>\n  </thead>\n  <tbody>\n    <tr>\n      <th>0</th>\n      <td>30</td>\n      <td>64</td>\n      <td>1</td>\n      <td>1</td>\n    </tr>\n    <tr>\n      <th>1</th>\n      <td>30</td>\n      <td>62</td>\n      <td>3</td>\n      <td>1</td>\n    </tr>\n    <tr>\n      <th>2</th>\n      <td>30</td>\n      <td>65</td>\n      <td>0</td>\n      <td>1</td>\n    </tr>\n    <tr>\n      <th>3</th>\n      <td>31</td>\n      <td>59</td>\n      <td>2</td>\n      <td>1</td>\n    </tr>\n    <tr>\n      <th>4</th>\n      <td>31</td>\n      <td>65</td>\n      <td>4</td>\n      <td>1</td>\n    </tr>\n  </tbody>\n</table>\n</div>",
            "text/plain": "   Age  Years_of_operation  Pos_axillary_nodes  Status\n0   30                  64                   1       1\n1   30                  62                   3       1\n2   30                  65                   0       1\n3   31                  59                   2       1\n4   31                  65                   4       1"
          },
          "metadata": {}
        }
      ]
    },
    {
      "metadata": {
        "trusted": true
      },
      "cell_type": "code",
      "source": "df_bcs.describe(include = 'all')",
      "execution_count": 3,
      "outputs": [
        {
          "output_type": "execute_result",
          "execution_count": 3,
          "data": {
            "text/html": "<div>\n<style scoped>\n    .dataframe tbody tr th:only-of-type {\n        vertical-align: middle;\n    }\n\n    .dataframe tbody tr th {\n        vertical-align: top;\n    }\n\n    .dataframe thead th {\n        text-align: right;\n    }\n</style>\n<table border=\"1\" class=\"dataframe\">\n  <thead>\n    <tr style=\"text-align: right;\">\n      <th></th>\n      <th>Age</th>\n      <th>Years_of_operation</th>\n      <th>Pos_axillary_nodes</th>\n      <th>Status</th>\n    </tr>\n  </thead>\n  <tbody>\n    <tr>\n      <th>count</th>\n      <td>306.000000</td>\n      <td>306.000000</td>\n      <td>306.000000</td>\n      <td>306.000000</td>\n    </tr>\n    <tr>\n      <th>mean</th>\n      <td>52.457516</td>\n      <td>62.852941</td>\n      <td>4.026144</td>\n      <td>1.264706</td>\n    </tr>\n    <tr>\n      <th>std</th>\n      <td>10.803452</td>\n      <td>3.249405</td>\n      <td>7.189654</td>\n      <td>0.441899</td>\n    </tr>\n    <tr>\n      <th>min</th>\n      <td>30.000000</td>\n      <td>58.000000</td>\n      <td>0.000000</td>\n      <td>1.000000</td>\n    </tr>\n    <tr>\n      <th>25%</th>\n      <td>44.000000</td>\n      <td>60.000000</td>\n      <td>0.000000</td>\n      <td>1.000000</td>\n    </tr>\n    <tr>\n      <th>50%</th>\n      <td>52.000000</td>\n      <td>63.000000</td>\n      <td>1.000000</td>\n      <td>1.000000</td>\n    </tr>\n    <tr>\n      <th>75%</th>\n      <td>60.750000</td>\n      <td>65.750000</td>\n      <td>4.000000</td>\n      <td>2.000000</td>\n    </tr>\n    <tr>\n      <th>max</th>\n      <td>83.000000</td>\n      <td>69.000000</td>\n      <td>52.000000</td>\n      <td>2.000000</td>\n    </tr>\n  </tbody>\n</table>\n</div>",
            "text/plain": "              Age  Years_of_operation  Pos_axillary_nodes      Status\ncount  306.000000          306.000000          306.000000  306.000000\nmean    52.457516           62.852941            4.026144    1.264706\nstd     10.803452            3.249405            7.189654    0.441899\nmin     30.000000           58.000000            0.000000    1.000000\n25%     44.000000           60.000000            0.000000    1.000000\n50%     52.000000           63.000000            1.000000    1.000000\n75%     60.750000           65.750000            4.000000    2.000000\nmax     83.000000           69.000000           52.000000    2.000000"
          },
          "metadata": {}
        }
      ]
    },
    {
      "metadata": {
        "trusted": true
      },
      "cell_type": "code",
      "source": "!pip install pandas_profiling\nimport pandas_profiling                                                      \n# Breast cancer survivals pre profiling \nprofile = df_bcs.profile_report(title='Breast cancer survivals Profiling Before Data Preprocessing')\nprofile.to_file(output_file=\"bcs_preprofiling.html\")",
      "execution_count": null,
      "outputs": [
        {
          "output_type": "stream",
          "text": "Requirement already satisfied: pandas_profiling in /home/nbuser/anaconda3_501/lib/python3.6/site-packages (2.3.0)\nRequirement already satisfied: htmlmin>=0.1.12 in /home/nbuser/anaconda3_501/lib/python3.6/site-packages (from pandas_profiling) (0.1.12)\nRequirement already satisfied: matplotlib>=1.4 in /home/nbuser/anaconda3_501/lib/python3.6/site-packages (from pandas_profiling) (3.0.0)\nRequirement already satisfied: missingno>=0.4.2 in /home/nbuser/anaconda3_501/lib/python3.6/site-packages (from pandas_profiling) (0.4.2)\nRequirement already satisfied: astropy in /home/nbuser/anaconda3_501/lib/python3.6/site-packages (from pandas_profiling) (3.0.4)\nRequirement already satisfied: phik>=0.9.8 in /home/nbuser/anaconda3_501/lib/python3.6/site-packages (from pandas_profiling) (0.9.8)\nRequirement already satisfied: confuse>=1.0.0 in /home/nbuser/anaconda3_501/lib/python3.6/site-packages (from pandas_profiling) (1.0.0)\nRequirement already satisfied: jinja2>=2.8 in /home/nbuser/anaconda3_501/lib/python3.6/site-packages (from pandas_profiling) (2.10)\nRequirement already satisfied: pandas>=0.19 in /home/nbuser/anaconda3_501/lib/python3.6/site-packages (from pandas_profiling) (0.23.4)\nRequirement already satisfied: numpy>=1.10.0 in /home/nbuser/anaconda3_501/lib/python3.6/site-packages (from matplotlib>=1.4->pandas_profiling) (1.16.2)\nRequirement already satisfied: cycler>=0.10 in /home/nbuser/anaconda3_501/lib/python3.6/site-packages (from matplotlib>=1.4->pandas_profiling) (0.10.0)\nRequirement already satisfied: kiwisolver>=1.0.1 in /home/nbuser/anaconda3_501/lib/python3.6/site-packages (from matplotlib>=1.4->pandas_profiling) (1.0.1)\nRequirement already satisfied: pyparsing!=2.0.4,!=2.1.2,!=2.1.6,>=2.0.1 in /home/nbuser/anaconda3_501/lib/python3.6/site-packages (from matplotlib>=1.4->pandas_profiling) (2.3.0)\nRequirement already satisfied: python-dateutil>=2.1 in /home/nbuser/anaconda3_501/lib/python3.6/site-packages (from matplotlib>=1.4->pandas_profiling) (2.8.0)\nRequirement already satisfied: scipy in /home/nbuser/anaconda3_501/lib/python3.6/site-packages (from missingno>=0.4.2->pandas_profiling) (1.1.0)\nRequirement already satisfied: seaborn in /home/nbuser/anaconda3_501/lib/python3.6/site-packages (from missingno>=0.4.2->pandas_profiling) (0.9.0)\nRequirement already satisfied: pytest>=4.0.2 in /home/nbuser/anaconda3_501/lib/python3.6/site-packages (from phik>=0.9.8->pandas_profiling) (5.1.2)\nRequirement already satisfied: numba>=0.38.1 in /home/nbuser/anaconda3_501/lib/python3.6/site-packages (from phik>=0.9.8->pandas_profiling) (0.40.0)\nRequirement already satisfied: jupyter-client>=5.2.3 in /home/nbuser/anaconda3_501/lib/python3.6/site-packages (from phik>=0.9.8->pandas_profiling) (5.2.3)\nRequirement already satisfied: nbconvert>=5.3.1 in /home/nbuser/anaconda3_501/lib/python3.6/site-packages (from phik>=0.9.8->pandas_profiling) (5.6.0)\nRequirement already satisfied: pytest-pylint>=0.13.0 in /home/nbuser/anaconda3_501/lib/python3.6/site-packages (from phik>=0.9.8->pandas_profiling) (0.14.1)\nRequirement already satisfied: pyyaml in /home/nbuser/anaconda3_501/lib/python3.6/site-packages (from confuse>=1.0.0->pandas_profiling) (3.13)\nRequirement already satisfied: MarkupSafe>=0.23 in /home/nbuser/anaconda3_501/lib/python3.6/site-packages (from jinja2>=2.8->pandas_profiling) (1.1.0)\nRequirement already satisfied: pytz>=2011k in /home/nbuser/anaconda3_501/lib/python3.6/site-packages (from pandas>=0.19->pandas_profiling) (2018.7)\nRequirement already satisfied: six in /home/nbuser/anaconda3_501/lib/python3.6/site-packages (from cycler>=0.10->matplotlib>=1.4->pandas_profiling) (1.11.0)\nRequirement already satisfied: setuptools in /home/nbuser/anaconda3_501/lib/python3.6/site-packages (from kiwisolver>=1.0.1->matplotlib>=1.4->pandas_profiling) (41.1.0)\nRequirement already satisfied: atomicwrites>=1.0 in /home/nbuser/anaconda3_501/lib/python3.6/site-packages (from pytest>=4.0.2->phik>=0.9.8->pandas_profiling) (1.2.1)\nRequirement already satisfied: py>=1.5.0 in /home/nbuser/anaconda3_501/lib/python3.6/site-packages (from pytest>=4.0.2->phik>=0.9.8->pandas_profiling) (1.6.0)\nRequirement already satisfied: packaging in /home/nbuser/anaconda3_501/lib/python3.6/site-packages (from pytest>=4.0.2->phik>=0.9.8->pandas_profiling) (18.0)\nRequirement already satisfied: attrs>=17.4.0 in /home/nbuser/anaconda3_501/lib/python3.6/site-packages (from pytest>=4.0.2->phik>=0.9.8->pandas_profiling) (18.2.0)\nRequirement already satisfied: wcwidth in /home/nbuser/anaconda3_501/lib/python3.6/site-packages (from pytest>=4.0.2->phik>=0.9.8->pandas_profiling) (0.1.7)\nRequirement already satisfied: more-itertools>=4.0.0 in /home/nbuser/anaconda3_501/lib/python3.6/site-packages (from pytest>=4.0.2->phik>=0.9.8->pandas_profiling) (4.3.0)\nRequirement already satisfied: importlib-metadata>=0.12; python_version < \"3.8\" in /home/nbuser/anaconda3_501/lib/python3.6/site-packages (from pytest>=4.0.2->phik>=0.9.8->pandas_profiling) (0.23)\nRequirement already satisfied: pluggy<1.0,>=0.12 in /home/nbuser/anaconda3_501/lib/python3.6/site-packages (from pytest>=4.0.2->phik>=0.9.8->pandas_profiling) (0.13.0)\nRequirement already satisfied: llvmlite>=0.25.0dev0 in /home/nbuser/anaconda3_501/lib/python3.6/site-packages (from numba>=0.38.1->phik>=0.9.8->pandas_profiling) (0.25.0)\nRequirement already satisfied: traitlets in /home/nbuser/anaconda3_501/lib/python3.6/site-packages (from jupyter-client>=5.2.3->phik>=0.9.8->pandas_profiling) (4.3.2)\nRequirement already satisfied: jupyter_core in /home/nbuser/anaconda3_501/lib/python3.6/site-packages (from jupyter-client>=5.2.3->phik>=0.9.8->pandas_profiling) (4.4.0)\nRequirement already satisfied: pyzmq>=13 in /home/nbuser/anaconda3_501/lib/python3.6/site-packages (from jupyter-client>=5.2.3->phik>=0.9.8->pandas_profiling) (17.1.2)\nRequirement already satisfied: tornado>=4.1 in /home/nbuser/anaconda3_501/lib/python3.6/site-packages (from jupyter-client>=5.2.3->phik>=0.9.8->pandas_profiling) (4.5.3)\nRequirement already satisfied: defusedxml in /home/nbuser/anaconda3_501/lib/python3.6/site-packages (from nbconvert>=5.3.1->phik>=0.9.8->pandas_profiling) (0.5.0)\nRequirement already satisfied: pygments in /home/nbuser/anaconda3_501/lib/python3.6/site-packages (from nbconvert>=5.3.1->phik>=0.9.8->pandas_profiling) (2.2.0)\nRequirement already satisfied: entrypoints>=0.2.2 in /home/nbuser/anaconda3_501/lib/python3.6/site-packages (from nbconvert>=5.3.1->phik>=0.9.8->pandas_profiling) (0.2.3)\nRequirement already satisfied: testpath in /home/nbuser/anaconda3_501/lib/python3.6/site-packages (from nbconvert>=5.3.1->phik>=0.9.8->pandas_profiling) (0.4.2)\nRequirement already satisfied: pandocfilters>=1.4.1 in /home/nbuser/anaconda3_501/lib/python3.6/site-packages (from nbconvert>=5.3.1->phik>=0.9.8->pandas_profiling) (1.4.2)\nRequirement already satisfied: nbformat>=4.4 in /home/nbuser/anaconda3_501/lib/python3.6/site-packages (from nbconvert>=5.3.1->phik>=0.9.8->pandas_profiling) (4.4.0)\nRequirement already satisfied: mistune<2,>=0.8.1 in /home/nbuser/anaconda3_501/lib/python3.6/site-packages (from nbconvert>=5.3.1->phik>=0.9.8->pandas_profiling) (0.8.4)\nRequirement already satisfied: bleach in /home/nbuser/anaconda3_501/lib/python3.6/site-packages (from nbconvert>=5.3.1->phik>=0.9.8->pandas_profiling) (1.5.0)\nRequirement already satisfied: pylint>=1.4.5 in /home/nbuser/anaconda3_501/lib/python3.6/site-packages (from pytest-pylint>=0.13.0->phik>=0.9.8->pandas_profiling) (2.1.1)\nRequirement already satisfied: zipp>=0.5 in /home/nbuser/anaconda3_501/lib/python3.6/site-packages (from importlib-metadata>=0.12; python_version < \"3.8\"->pytest>=4.0.2->phik>=0.9.8->pandas_profiling) (0.6.0)\nRequirement already satisfied: decorator in /home/nbuser/anaconda3_501/lib/python3.6/site-packages (from traitlets->jupyter-client>=5.2.3->phik>=0.9.8->pandas_profiling) (4.3.0)\nRequirement already satisfied: ipython-genutils in /home/nbuser/anaconda3_501/lib/python3.6/site-packages (from traitlets->jupyter-client>=5.2.3->phik>=0.9.8->pandas_profiling) (0.2.0)\nRequirement already satisfied: jsonschema!=2.5.0,>=2.4 in /home/nbuser/anaconda3_501/lib/python3.6/site-packages (from nbformat>=4.4->nbconvert>=5.3.1->phik>=0.9.8->pandas_profiling) (2.6.0)\n",
          "name": "stdout"
        },
        {
          "output_type": "stream",
          "text": "Requirement already satisfied: html5lib!=0.9999,!=0.99999,<0.99999999,>=0.999 in /home/nbuser/anaconda3_501/lib/python3.6/site-packages (from bleach->nbconvert>=5.3.1->phik>=0.9.8->pandas_profiling) (0.9999999)\nRequirement already satisfied: astroid>=2.0.0 in /home/nbuser/anaconda3_501/lib/python3.6/site-packages (from pylint>=1.4.5->pytest-pylint>=0.13.0->phik>=0.9.8->pandas_profiling) (2.0.4)\nRequirement already satisfied: isort>=4.2.5 in /home/nbuser/anaconda3_501/lib/python3.6/site-packages (from pylint>=1.4.5->pytest-pylint>=0.13.0->phik>=0.9.8->pandas_profiling) (4.3.4)\nRequirement already satisfied: mccabe in /home/nbuser/anaconda3_501/lib/python3.6/site-packages (from pylint>=1.4.5->pytest-pylint>=0.13.0->phik>=0.9.8->pandas_profiling) (0.6.1)\nRequirement already satisfied: lazy_object_proxy in /home/nbuser/anaconda3_501/lib/python3.6/site-packages (from astroid>=2.0.0->pylint>=1.4.5->pytest-pylint>=0.13.0->phik>=0.9.8->pandas_profiling) (1.3.1)\nRequirement already satisfied: wrapt in /home/nbuser/anaconda3_501/lib/python3.6/site-packages (from astroid>=2.0.0->pylint>=1.4.5->pytest-pylint>=0.13.0->phik>=0.9.8->pandas_profiling) (1.10.11)\nRequirement already satisfied: typed_ast in /home/nbuser/anaconda3_501/lib/python3.6/site-packages (from astroid>=2.0.0->pylint>=1.4.5->pytest-pylint>=0.13.0->phik>=0.9.8->pandas_profiling) (1.1.0)\n\u001b[33mWARNING: You are using pip version 19.2.2, however version 19.2.3 is available.\nYou should consider upgrading via the 'pip install --upgrade pip' command.\u001b[0m\n",
          "name": "stdout"
        }
      ]
    },
    {
      "metadata": {
        "trusted": true
      },
      "cell_type": "code",
      "source": "# Remove duplicate records\ndf_bcs.drop_duplicates( inplace=True)",
      "execution_count": null,
      "outputs": []
    },
    {
      "metadata": {
        "trusted": true
      },
      "cell_type": "code",
      "source": "df_bcs.describe()",
      "execution_count": null,
      "outputs": []
    },
    {
      "metadata": {
        "trusted": true
      },
      "cell_type": "code",
      "source": "# Breast cancer survivalss post profiling \nprofile = df_bcs.profile_report(title='Breast Cancer Servivers Profiling After Cleaning Data')\nprofile.to_file(output_file=\"bcs_postprofiling.html\")",
      "execution_count": null,
      "outputs": []
    },
    {
      "metadata": {
        "trusted": true
      },
      "cell_type": "code",
      "source": "df_bcs.describe()",
      "execution_count": null,
      "outputs": []
    },
    {
      "metadata": {
        "trusted": true
      },
      "cell_type": "code",
      "source": "df_bcs.info()",
      "execution_count": null,
      "outputs": []
    },
    {
      "metadata": {
        "trusted": true
      },
      "cell_type": "code",
      "source": "# 1. KDE plot showing the Frequency of Age values\ndf_bcs['Age'].plot(kind='kde', figsize=(15, 7), color='black')\n\nplt.xlabel('Age')\nplt.ylabel('Frequency')\nplt.title('KDE plot showing the Frequency of Age values')",
      "execution_count": null,
      "outputs": []
    },
    {
      "metadata": {
        "trusted": true
      },
      "cell_type": "code",
      "source": "# 2. Bar chart showing the variation of Years of operation across Frequency\ndf_bcs['Years_of_operation'].value_counts().plot.bar(figsize=(15,7), colormap='Dark2', fontsize=13)\n\nplt.xlabel('Frequency')\nplt.ylabel('Years of operation')\nplt.title('Bar chart showing the variation of Years of operation across Frequency')",
      "execution_count": null,
      "outputs": []
    },
    {
      "metadata": {
        "trusted": true
      },
      "cell_type": "code",
      "source": "# 3. Histogram showing the distribution of Positive axillary nodes values \n\nbins = [0,3,6,9,12,15,18,21,24,27,30,33,36,39]\ndf_bcs['Pos_axillary_nodes'].plot(kind='hist', bins = bins, figsize=(15, 7), color='brown', xticks=bins)\n\nplt.xlabel('Pos_axillary_nodes')\nplt.ylabel('Frequency')\nplt.title('Histogram showing the distribution of Positive axillary nodes values')\n",
      "execution_count": null,
      "outputs": []
    },
    {
      "metadata": {
        "trusted": true
      },
      "cell_type": "code",
      "source": "# 4. Petients Age and their survival status \ndf_bcs['age_Group'] = pd.cut(df_bcs['Age'],\n                         [0,30,40,50,60,70, 99],\n                         labels=['<30','30-39','40-49','50-59','60-69', '70+'], include_lowest=True)\nfig,ax =plt.subplots(figsize=(15,7))\nsns.countplot(data = df_bcs,x = 'age_Group', hue='Status')\nplt.title('Age Group vs Status')",
      "execution_count": null,
      "outputs": []
    },
    {
      "metadata": {
        "trusted": true
      },
      "cell_type": "code",
      "source": "# 5. Hexplot showing the variation of Age with Pos_axillary_nodes of each item \ndf_bcs.plot(kind='hexbin', x='Pos_axillary_nodes', y='Age', figsize=(15, 7), gridsize=25, fontsize=13, colormap='Reds')\n\nplt.title('Hexplot showing the variation of Age with Pos_axillary_nodes of each item')",
      "execution_count": null,
      "outputs": []
    },
    {
      "metadata": {
        "trusted": true
      },
      "cell_type": "code",
      "source": "# 6. Age and year of operation\n\nplt.figure(figsize=(12,7))\nsns.regplot(data=df_bcs, x='Age', y='Years_of_operation', color='brown')\n\nplt.title('Regplot showing the variation of Years_of_operation with Age present in each item')",
      "execution_count": null,
      "outputs": []
    },
    {
      "metadata": {
        "trusted": true
      },
      "cell_type": "code",
      "source": "# 7. Age, year of operation and Positive axillary nodes\n\ndf_bcs.groupby(['Pos_axillary_nodes'])['Age'].mean().plot(kind='line', figsize=(15, 7), color='green')\ndf_bcs.groupby(['Pos_axillary_nodes'])['Years_of_operation'].mean().plot(kind='line', figsize=(15, 7), color='red')\n\nplt.ylabel('Value')\nplt.title('Bivariate Linear Chart showing the variation of Age and Years_of_operation with Pos_axillary_nodes')\nplt.legend(['Age', 'Years_of_operation'])",
      "execution_count": null,
      "outputs": []
    },
    {
      "metadata": {
        "trusted": true
      },
      "cell_type": "code",
      "source": "# 8. Number of positive node detected @Age\nplt.figure(figsize=(10,5))\n\nsns.boxplot(data=df_bcs, x='Pos_axillary_nodes', y='Age', palette='rainbow')\n\nplt.title('Pos_axillary_nodes vs Age')",
      "execution_count": null,
      "outputs": []
    },
    {
      "metadata": {
        "trusted": true
      },
      "cell_type": "code",
      "source": "# 9. Patient undergone opration year with respect to number of positive axillary node detected\nplt.figure(figsize=(10,5))\n\nsns.boxplot(data=df_bcs, x='Pos_axillary_nodes', y='Years_of_operation', palette='rainbow')\n\nplt.title('Pos_axillary_nodes vs Years_of_operation')",
      "execution_count": null,
      "outputs": []
    },
    {
      "metadata": {
        "trusted": true
      },
      "cell_type": "code",
      "source": "# 10. Age and status\n\nplt.figure(figsize=(10,5))\nsns.boxplot(data=df_bcs, x='Status', y='Age', palette='rainbow')\n\nplt.title('Age vs Status')\n",
      "execution_count": null,
      "outputs": []
    },
    {
      "metadata": {
        "trusted": true
      },
      "cell_type": "code",
      "source": "# 11. Years_of_operation vs Status\nplt.figure(figsize=(10,5))\n\nsns.boxplot(data=df_bcs, x='Status', y='Years_of_operation', palette='rainbow')\n\nplt.title('Years_of_operation vs Status')",
      "execution_count": null,
      "outputs": []
    },
    {
      "metadata": {
        "trusted": true
      },
      "cell_type": "code",
      "source": "# 12. count plot for Year of operation vs Status\nfig,ax =plt.subplots(figsize=(10,6))\nsns.countplot(data = df_bcs,x = 'Years_of_operation', hue='Status')\nplt.title('Year of operation vs Status')",
      "execution_count": null,
      "outputs": []
    },
    {
      "metadata": {
        "trusted": true
      },
      "cell_type": "code",
      "source": "# 13. Analysis of correlation in breast cancer survivors\ncorr_mat = df_bcs.corr()\nplt.figure(figsize=(15,7))\nsns.heatmap(corr_mat, annot=True, cmap='viridis')\n",
      "execution_count": null,
      "outputs": []
    }
  ],
  "metadata": {
    "kernelspec": {
      "name": "python36",
      "display_name": "Python 3.6",
      "language": "python"
    },
    "language_info": {
      "mimetype": "text/x-python",
      "nbconvert_exporter": "python",
      "name": "python",
      "pygments_lexer": "ipython3",
      "version": "3.6.6",
      "file_extension": ".py",
      "codemirror_mode": {
        "version": 3,
        "name": "ipython"
      }
    }
  },
  "nbformat": 4,
  "nbformat_minor": 1
}